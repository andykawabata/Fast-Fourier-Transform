{
 "cells": [
  {
   "cell_type": "code",
   "execution_count": 68,
   "metadata": {},
   "outputs": [],
   "source": [
    "import numpy as np\n",
    "import math"
   ]
  },
  {
   "cell_type": "markdown",
   "metadata": {},
   "source": [
    "### Tests\n",
    "the lengths of a and b must:<br>\n",
    "1) be the same<br>\n",
    "2) be a power of 2<br>\n",
    "3) account for the degree of resulting polynomial (by padding with 0's)"
   ]
  },
  {
   "cell_type": "code",
   "execution_count": 72,
   "metadata": {},
   "outputs": [
    {
     "name": "stdout",
     "output_type": "stream",
     "text": [
      "[10, 5, 9, 11, 13, 16, 16, 16]\n",
      "Warning: your answer is incorrect. extend length of input arrays to the nearest power of 2\n"
     ]
    }
   ],
   "source": [
    "#if not enough trailing 0's, you will get a result with a warning.\n",
    "\n",
    "a = [1,1,0,0,1,1,1,1]\n",
    "b = [2,3,0,0,0,0,6,5]\n",
    "A, B = evaluate(a, b)\n",
    "C = pointwise_multiply(A,B)\n",
    "c = interpolate(C)\n",
    "print(c)\n",
    "check_padding(a,b) # if a and b are too short, check_padding prints warning. otherwise it does nothing."
   ]
  },
  {
   "cell_type": "code",
   "execution_count": 74,
   "metadata": {},
   "outputs": [
    {
     "name": "stdout",
     "output_type": "stream",
     "text": [
      "[2, 5, 3, 0, 2, 5, 11, 16, 8, 0, 6, 11, 11, 11, 5, 0]\n"
     ]
    }
   ],
   "source": [
    "#proper amount of trailing 0's\n",
    "\n",
    "a = [1,1,0,0,1,1,1,1,0,0,0,0,0,0,0,0]\n",
    "b = [2,3,0,0,0,0,6,5,0,0,0,0,0,0,0,0]\n",
    "A, B = evaluate(a, b)\n",
    "C = pointwise_multiply(A,B)\n",
    "c = interpolate(C)\n",
    "print(c)\n",
    "check_padding(a,b)"
   ]
  },
  {
   "cell_type": "markdown",
   "metadata": {},
   "source": [
    "## Evaluate"
   ]
  },
  {
   "cell_type": "code",
   "execution_count": 37,
   "metadata": {},
   "outputs": [],
   "source": [
    "def evaluate(a,b):\n",
    "    if is_powerof2(len(a)) and len(a) == len(b):\n",
    "        A = FFT(a)\n",
    "        B = FFT(b)\n",
    "        return [A, B]\n",
    "    else:\n",
    "        print(\"EVALUATE(a,b): lengths of input arrays must be a power 2, and the lengths must be the same\")\n",
    "    \n",
    "\n",
    "\n",
    "def FFT(a):\n",
    "    n = len(a)\n",
    "    if n == 1:\n",
    "        return a\n",
    "    wn = nth_root_of_unity(n,1)\n",
    "    w = 1\n",
    "    a_even = extract_coefficients(a,True)\n",
    "    a_odd = extract_coefficients(a,False)\n",
    "    y_even = FFT(a_even)\n",
    "    y_odd = FFT(a_odd)\n",
    "    y = [0] * n\n",
    "    for k in range(n//2):\n",
    "        y[k] = y_even[k] + w*y_odd[k]\n",
    "        y[k+(n//2)] = y_even[k] - w*y_odd[k]\n",
    "        w = w*wn\n",
    "    return y"
   ]
  },
  {
   "cell_type": "markdown",
   "metadata": {},
   "source": [
    "## Pointwise Multiplication"
   ]
  },
  {
   "cell_type": "code",
   "execution_count": 3,
   "metadata": {},
   "outputs": [],
   "source": [
    "def pointwise_multiply(a,b):\n",
    "    if len(a) == len(b)\n",
    "        products = []\n",
    "        for i in range(len(a)):\n",
    "        products.append(a[i]*b[i])\n",
    "        return products\n",
    "    else:\n",
    "        print(\"POINTWISE_MULTIPLY(a,b): lengths of input arrays must be the same\")"
   ]
  },
  {
   "cell_type": "markdown",
   "metadata": {},
   "source": [
    "## Interpolation"
   ]
  },
  {
   "cell_type": "code",
   "execution_count": 35,
   "metadata": {},
   "outputs": [],
   "source": [
    "def interpolate(a):\n",
    "    if is_powerof2(len(a)):\n",
    "        pre_coefficients = reverse_FFT(a)\n",
    "        coefficients = divide_array(pre_coefficients)\n",
    "        real_coefficients = get_real_components(coefficients)\n",
    "        return real_coefficients\n",
    "    else:\n",
    "        print(\"INTERPOLATE(a): input array length must be a power of 2\")\n",
    "        \n",
    "def reverse_FFT(a):\n",
    "    n = len(a)\n",
    "    if n == 1:\n",
    "        return a\n",
    "    wn = 1/nth_root_of_unity(n,1)  \n",
    "    w = 1\n",
    "    a_even = extract_coefficients(a,True)\n",
    "    a_odd = extract_coefficients(a,False)\n",
    "    y_even = reverse_FFT(a_even)\n",
    "    y_odd = reverse_FFT(a_odd)\n",
    "    y = [0] * n\n",
    "    for k in range(n//2):\n",
    "        y[k] = y_even[k] + w*y_odd[k]\n",
    "        y[k+(n//2)] = y_even[k] - w*y_odd[k]\n",
    "        w = w*wn\n",
    "    return y"
   ]
  },
  {
   "cell_type": "markdown",
   "metadata": {},
   "source": [
    "### Helper Functions"
   ]
  },
  {
   "cell_type": "code",
   "execution_count": 54,
   "metadata": {},
   "outputs": [],
   "source": [
    "def nth_root_of_unity(n,k):\n",
    "    return np.exp(2j * np.pi * k/ n )\n",
    "\n",
    "def is_powerof2(num):\n",
    "    return math.ceil(math.log2(num)) == math.floor(math.log2(num))\n",
    "            \n",
    "def find_nearest_power_of_two(d):\n",
    "    x = math.log2(d)\n",
    "    if x.is_integer():\n",
    "        return d\n",
    "    else:\n",
    "        x = math.ceil(x)\n",
    "        return 2**x\n",
    "    \n",
    "def find_n(a): #find n value a single coefficient array, (the degree + 1)\n",
    "    n = 0\n",
    "    i = 1\n",
    "    for num in a:\n",
    "        if num != 0:\n",
    "            n= i\n",
    "        i = i + 1\n",
    "    return n\n",
    "    \n",
    "def check_padding(a, b):\n",
    "    a_n = find_n(a) \n",
    "    b_n = find_n(b)\n",
    "    c_n = a_n + b_n -1\n",
    "    n = find_nearest_power_of_two(c_n)\n",
    "    if len(a) < n:\n",
    "        print(\"Warning: your answer is incorrect. extend length of input arrays to the nearest power of 2\")\n",
    "    else:\n",
    "        return\n",
    "        \n",
    "    \n",
    "def extract_coefficients(a, is_even):\n",
    "    new_list = []\n",
    "    if is_even:\n",
    "        for i in range(0,len(a),2):\n",
    "            new_list.append(a[i])\n",
    "    else:\n",
    "        for i in range(1,len(a),2):\n",
    "            new_list.append(a[i])\n",
    "    return new_list\n",
    "\n",
    "def divide_array(a):\n",
    "    n=len(a)\n",
    "    quotients = []\n",
    "    for i in range(n):\n",
    "        quotients.append(a[i]/n)\n",
    "    return quotients\n",
    "\n",
    "def get_real_components(a):\n",
    "    new_list = []\n",
    "    for num in a:\n",
    "        if isinstance(num.real, int):\n",
    "            new_list.append(num.real)\n",
    "        else:\n",
    "            if num.real%1 < .000001 or num.real%1 > .99999:\n",
    "                new_list.append(int(round(num.real)))\n",
    "            else:\n",
    "                new_list.append(round(num.real, 8))\n",
    "    return new_list"
   ]
  }
 ],
 "metadata": {
  "kernelspec": {
   "display_name": "Python 3",
   "language": "python",
   "name": "python3"
  },
  "language_info": {
   "codemirror_mode": {
    "name": "ipython",
    "version": 3
   },
   "file_extension": ".py",
   "mimetype": "text/x-python",
   "name": "python",
   "nbconvert_exporter": "python",
   "pygments_lexer": "ipython3",
   "version": "3.7.4"
  }
 },
 "nbformat": 4,
 "nbformat_minor": 2
}
