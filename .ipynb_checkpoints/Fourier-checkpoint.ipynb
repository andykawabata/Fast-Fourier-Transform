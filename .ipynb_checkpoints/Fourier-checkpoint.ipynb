{
 "cells": [
  {
   "cell_type": "code",
   "execution_count": 8,
   "metadata": {},
   "outputs": [],
   "source": [
    "import numpy as np\n",
    "import math"
   ]
  },
  {
   "cell_type": "markdown",
   "metadata": {},
   "source": [
    "### Tests\n",
    "To run a test just replace a and b with any polynomials in coefficient representation<br>\n",
    "The lengths of the arrays do not matter and they can be of different lengths"
   ]
  },
  {
   "cell_type": "code",
   "execution_count": 16,
   "metadata": {},
   "outputs": [
    {
     "name": "stdout",
     "output_type": "stream",
     "text": [
      "[1, 2, 3, 4, 3, 2, 1, 0]\n"
     ]
    }
   ],
   "source": [
    "a = [1,1,1,1]\n",
    "b = [1,1,1,1]\n",
    "\n",
    "A, B = evaluate(a,b)\n",
    "C = pointwise_multiply(A,B)\n",
    "c = interpolate(C)\n",
    "print(c)"
   ]
  },
  {
   "cell_type": "code",
   "execution_count": 17,
   "metadata": {},
   "outputs": [
    {
     "name": "stdout",
     "output_type": "stream",
     "text": [
      "[2, 5, 3, 0, 2, 5, 11, 16, 8, 0, 6, 11, 11, 11, 5, 0]\n"
     ]
    }
   ],
   "source": [
    "a = [1,1,0,0,1,1,1,1]\n",
    "b= [2,3,0,0,0,0,6,5]\n",
    "\n",
    "A, B = evaluate(a,b)\n",
    "C = pointwise_multiply(A,B)\n",
    "c = interpolate(C)\n",
    "print(c)"
   ]
  },
  {
   "cell_type": "code",
   "execution_count": 18,
   "metadata": {},
   "outputs": [
    {
     "name": "stdout",
     "output_type": "stream",
     "text": [
      "[0, 0, 0, 1, 8, -8, 13, 37, 10, 3, -53, 7, -18, 6, 48, -54]\n"
     ]
    }
   ],
   "source": [
    "a = [0,0,0,1,8,-9]\n",
    "b = [1,0,1,5,6,7,1,2,0,0,6]\n",
    "\n",
    "A, B = evaluate(a,b)\n",
    "C = pointwise_multiply(A,B)\n",
    "c = interpolate(C)\n",
    "print(c)"
   ]
  },
  {
   "cell_type": "markdown",
   "metadata": {},
   "source": [
    "## Evaluation\n"
   ]
  },
  {
   "cell_type": "code",
   "execution_count": 12,
   "metadata": {},
   "outputs": [],
   "source": [
    "# returns 2 arrays, representing a and b evaluated at the appropriate nth roots of unity\n",
    "def evaluate(a,b):\n",
    "    n = find_product_n(a,b)\n",
    "    a_extended = extend_array(a,n)\n",
    "    b_extended = extend_array(b,n)\n",
    "    A = FFT(a_extended, n)\n",
    "    B = FFT(b_extended, n)\n",
    "    return [A, B]\n",
    "    \n",
    "\n",
    "\n",
    "def FFT(a,n):\n",
    "    if n == 1:\n",
    "        return a\n",
    "    wn = nth_root_of_unity(n,1)\n",
    "    w = 1\n",
    "    a_even = extract_coefficients(a,True)\n",
    "    a_odd = extract_coefficients(a,False)\n",
    "    y_even = FFT(a_even, n//2)\n",
    "    y_odd = FFT(a_odd, n//2)\n",
    "    y = [0] * n\n",
    "    for k in range(n//2):\n",
    "        y[k] = y_even[k] + w*y_odd[k]\n",
    "        y[k+(n//2)] = y_even[k] - w*y_odd[k]\n",
    "        w = w*wn\n",
    "    return y"
   ]
  },
  {
   "cell_type": "markdown",
   "metadata": {},
   "source": [
    "## Point-wise Multiplication\n"
   ]
  },
  {
   "cell_type": "code",
   "execution_count": 13,
   "metadata": {},
   "outputs": [],
   "source": [
    "def pointwise_multiply(a,b):\n",
    "    products = []\n",
    "    for i in range(len(a)):\n",
    "        products.append(a[i]*b[i])\n",
    "    return products\n",
    "    "
   ]
  },
  {
   "cell_type": "markdown",
   "metadata": {},
   "source": [
    "## Interpolation"
   ]
  },
  {
   "cell_type": "code",
   "execution_count": 14,
   "metadata": {},
   "outputs": [],
   "source": [
    "def reverse_FFT(a,n):\n",
    "    if n == 1:\n",
    "        return a\n",
    "    wn = 1/nth_root_of_unity(n,1)  \n",
    "    w = 1\n",
    "    a_even = extract_coefficients(a,True)\n",
    "    a_odd = extract_coefficients(a,False)\n",
    "    y_even = reverse_FFT(a_even, n//2)\n",
    "    y_odd = reverse_FFT(a_odd, n//2)\n",
    "    \n",
    "    y = [0] * n\n",
    "    for k in range(n//2):\n",
    "        y[k] = y_even[k] + w*y_odd[k]\n",
    "        y[k+(n//2)] = y_even[k] - w*y_odd[k]\n",
    "        w = w*wn\n",
    "    return y\n",
    "\n",
    "def interpolate(a):\n",
    "    pre_coefficients = reverse_FFT(a,len(a))\n",
    "    coefficients = divide_array(pre_coefficients,len(a))\n",
    "    real_coefficients = get_real_components(coefficients)\n",
    "    return real_coefficients\n",
    "\n",
    "    "
   ]
  },
  {
   "cell_type": "markdown",
   "metadata": {},
   "source": [
    "### Helper Functions"
   ]
  },
  {
   "cell_type": "code",
   "execution_count": 15,
   "metadata": {},
   "outputs": [],
   "source": [
    "def extend_array(a, n):\n",
    "    new_list = []\n",
    "    for i in range(len(a)):\n",
    "        new_list.append(a[i])\n",
    "    remaining = n - len(a)\n",
    "    for i in range(remaining):\n",
    "        new_list.append(0)\n",
    "    return new_list\n",
    "            \n",
    "def find_nearest_power_of_two(d):\n",
    "    x = math.log2(d)\n",
    "    if x.is_integer():\n",
    "        return d\n",
    "    else:\n",
    "        x = math.ceil(x)\n",
    "        return 2**x\n",
    "    \n",
    "def find_n(a): #find n value a single coefficient array, (the degree + 1)\n",
    "    n = 0\n",
    "    i = 1\n",
    "    for num in a:\n",
    "        if num != 0:\n",
    "            n= i\n",
    "        i = i + 1\n",
    "    return n\n",
    "    \n",
    "def find_product_n(a, b): #takes 2 arrays, determine n value of their product and rounds up to nearest power of 2\n",
    "    a_n = find_n(a) \n",
    "    b_n = find_n(b)\n",
    "    c_n = a_n + b_n -1\n",
    "    n = find_nearest_power_of_two(c_n)\n",
    "    return n\n",
    "    \n",
    "def extract_coefficients(a, is_even):\n",
    "    new_list = []\n",
    "    if is_even:\n",
    "        for i in range(0,len(a),2):\n",
    "            new_list.append(a[i])\n",
    "    else:\n",
    "        for i in range(1,len(a),2):\n",
    "            new_list.append(a[i])\n",
    "    return new_list\n",
    "\n",
    "def divide_array(a, n):\n",
    "    quotients = []\n",
    "    for i in range(len(a)):\n",
    "        quotients.append(a[i]/n)\n",
    "    return quotients\n",
    "\n",
    "def print_array(a):\n",
    "    for item in a:\n",
    "        print(item, \"\\n\")\n",
    "        \n",
    "def nth_root_of_unity(n,k):\n",
    "    return np.exp(2j * np.pi * k/ n )\n",
    "\n",
    "def get_real_components(a):\n",
    "    new_list = []\n",
    "    \n",
    "    for num in a:\n",
    "        if isinstance(num.real, int):\n",
    "            new_list.append(num.real)\n",
    "        else:\n",
    "            if num.real%1 < .000001 or num.real%1 > .99999:\n",
    "                new_list.append(int(round(num.real)))\n",
    "            else:\n",
    "                new_list.append(round(num.real, 8))\n",
    "    return new_list\n"
   ]
  }
 ],
 "metadata": {
  "kernelspec": {
   "display_name": "Python 3",
   "language": "python",
   "name": "python3"
  },
  "language_info": {
   "codemirror_mode": {
    "name": "ipython",
    "version": 3
   },
   "file_extension": ".py",
   "mimetype": "text/x-python",
   "name": "python",
   "nbconvert_exporter": "python",
   "pygments_lexer": "ipython3",
   "version": "3.7.4"
  }
 },
 "nbformat": 4,
 "nbformat_minor": 2
}
